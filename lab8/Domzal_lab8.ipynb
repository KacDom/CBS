{
  "nbformat": 4,
  "nbformat_minor": 0,
  "metadata": {
    "colab": {
      "name": "CBS_DL.ipynb",
      "provenance": [],
      "collapsed_sections": []
    },
    "kernelspec": {
      "name": "python3",
      "display_name": "Python 3"
    },
    "language_info": {
      "name": "python"
    },
    "accelerator": "GPU"
  },
  "cells": [
    {
      "cell_type": "markdown",
      "metadata": {
        "id": "la9tQFOM_0p_"
      },
      "source": [
        "# 1. Use exactly the same architectures (both densely connected layers and from convolutional layers) as the above MNIST e.g., replace the dataset. Save the Jupyter Notebook in its original format and output a PDF file after training, testing, and validation. Make sure to write down how do they perform (training accuracny, testing accuracy)."
      ]
    },
    {
      "cell_type": "markdown",
      "metadata": {
        "id": "U46VMkXO53KU"
      },
      "source": [
        " ## Densely connected layers"
      ]
    },
    {
      "cell_type": "code",
      "metadata": {
        "id": "7JufvQ3ivHEu"
      },
      "source": [
        "import tensorflow as tf\n",
        "from tensorflow.keras import layers\n",
        "from tensorflow.keras import models\n",
        "import numpy as np\n",
        "import tensorflow.keras as keras\n",
        "import matplotlib.pyplot as plt\n",
        "from tensorflow.keras.utils import to_categorical\n",
        "\n",
        "# loading dataset\n",
        "(train_mnist_fash_img, train_mnist_fash_label), (test_mnist_fash_img, test_mnist_fash_label) = keras.datasets.fashion_mnist.load_data()"
      ],
      "execution_count": 1,
      "outputs": []
    },
    {
      "cell_type": "code",
      "metadata": {
        "id": "_ZQaxih2wAnC"
      },
      "source": [
        "# recreating model\n",
        "model_densly = models.Sequential()\n",
        "model_densly.add(layers.Dense(512, activation='relu', input_shape=(28 * 28,)))\n",
        "model_densly.add(layers.Dense(10, activation='softmax'))\n",
        "model_densly.compile(optimizer='rmsprop',\n",
        "loss='mean_squared_error',\n",
        "metrics=['accuracy'])"
      ],
      "execution_count": 2,
      "outputs": []
    },
    {
      "cell_type": "code",
      "metadata": {
        "id": "h_AMT9gIwPf4"
      },
      "source": [
        "# normalazing and flattening images\n",
        "train_mnist_fash_img_flat = train_mnist_fash_img.reshape((60000, 28 * 28))\n",
        "train_mnist_fash_img_flat = train_mnist_fash_img_flat.astype('float32') / 255\n",
        "test_mnist_fash_img_flat = test_mnist_fash_img.reshape((10000, 28 * 28))\n",
        "test_mnist_fash_img_flat = test_mnist_fash_img_flat.astype('float32') / 255\n",
        "\n",
        "# compiling model\n",
        "model_densly.compile(optimizer='rmsprop',\n",
        "loss='categorical_crossentropy',\n",
        "metrics=['accuracy'])\n",
        "\n",
        "# making image labels categorical\n",
        "train_mnist_fash_label = to_categorical(train_mnist_fash_label)\n",
        "test_mnist_fash_label = to_categorical(test_mnist_fash_label)"
      ],
      "execution_count": 3,
      "outputs": []
    },
    {
      "cell_type": "code",
      "metadata": {
        "colab": {
          "base_uri": "https://localhost:8080/"
        },
        "id": "_JOTLE4mwSbN",
        "outputId": "6963dfe3-4a6c-4d9a-b6cb-a60e5d26e211"
      },
      "source": [
        "# training model\n",
        "model_densly.fit(train_mnist_fash_img_flat, train_mnist_fash_label, epochs=5, batch_size=128)"
      ],
      "execution_count": 4,
      "outputs": [
        {
          "output_type": "stream",
          "text": [
            "Epoch 1/5\n",
            "469/469 [==============================] - 2s 3ms/step - loss: 0.7469 - accuracy: 0.7448\n",
            "Epoch 2/5\n",
            "469/469 [==============================] - 1s 3ms/step - loss: 0.3969 - accuracy: 0.8553\n",
            "Epoch 3/5\n",
            "469/469 [==============================] - 1s 3ms/step - loss: 0.3437 - accuracy: 0.8750\n",
            "Epoch 4/5\n",
            "469/469 [==============================] - 1s 3ms/step - loss: 0.3199 - accuracy: 0.8805\n",
            "Epoch 5/5\n",
            "469/469 [==============================] - 1s 3ms/step - loss: 0.2950 - accuracy: 0.8908\n"
          ],
          "name": "stdout"
        },
        {
          "output_type": "execute_result",
          "data": {
            "text/plain": [
              "<tensorflow.python.keras.callbacks.History at 0x7fc2a2ed8210>"
            ]
          },
          "metadata": {
            "tags": []
          },
          "execution_count": 4
        }
      ]
    },
    {
      "cell_type": "code",
      "metadata": {
        "colab": {
          "base_uri": "https://localhost:8080/"
        },
        "id": "cMQbgJ77wTvC",
        "outputId": "33b817f2-9162-4e6e-8dc6-c5cd9caf0fdd"
      },
      "source": [
        "train_model_loss, train_model_acc = model_densly.evaluate(train_mnist_fash_img_flat, train_mnist_fash_label)\n",
        "test_model_loss, test_model_acc = model_densly.evaluate(test_mnist_fash_img_flat, test_mnist_fash_label)\n",
        "\n",
        "print(f'Train model accuracy: {round(train_model_acc, 3)}')\n",
        "print(f'Test model accuracy: {round(test_model_acc, 3)}')"
      ],
      "execution_count": 5,
      "outputs": [
        {
          "output_type": "stream",
          "text": [
            "1875/1875 [==============================] - 3s 2ms/step - loss: 0.3128 - accuracy: 0.8806\n",
            "313/313 [==============================] - 1s 2ms/step - loss: 0.4024 - accuracy: 0.8527\n",
            "Train model accuracy: 0.881\n",
            "Test model accuracy: 0.853\n"
          ],
          "name": "stdout"
        }
      ]
    },
    {
      "cell_type": "code",
      "metadata": {
        "colab": {
          "base_uri": "https://localhost:8080/",
          "height": 282
        },
        "id": "N4It-XaZ0mC4",
        "outputId": "ad30e9b4-0fba-4eb8-8d8c-4d09199f1879"
      },
      "source": [
        "predictions = model_densly.predict(test_mnist_fash_img_flat[:10])\n",
        "img_num = 6\n",
        "print(test_mnist_fash_label[img_num])\n",
        "plt.imshow(test_mnist_fash_img[img_num], cmap=plt.get_cmap('gray'))\n",
        "plt.show()"
      ],
      "execution_count": 6,
      "outputs": [
        {
          "output_type": "stream",
          "text": [
            "[0. 0. 0. 0. 1. 0. 0. 0. 0. 0.]\n"
          ],
          "name": "stdout"
        },
        {
          "output_type": "display_data",
          "data": {
            "image/png": "[encoded data removed]",
            "text/plain": [
              "<Figure size 432x288 with 1 Axes>"
            ]
          },
          "metadata": {
            "tags": [],
            "needs_background": "light"
          }
        }
      ]
    },
    {
      "cell_type": "markdown",
      "metadata": {
        "id": "zkFFKlYu8Wj5"
      },
      "source": [
        "### As you can see model classified coat as a coat"
      ]
    },
    {
      "cell_type": "markdown",
      "metadata": {
        "id": "2Wn5vvO-_VR7"
      },
      "source": [
        "## Convolutional layers\n"
      ]
    },
    {
      "cell_type": "code",
      "metadata": {
        "id": "4gvuBnEWCbjj"
      },
      "source": [
        "# making model\n",
        "model_conv = models.Sequential()\n",
        "model_conv.add(layers.Conv2D(32, (3, 3), activation='relu', input_shape=(28, 28, 1)))\n",
        "model_conv.add(layers.MaxPooling2D((2, 2)))\n",
        "model_conv.add(layers.Conv2D(64, (3, 3), activation='relu'))\n",
        "model_conv.add(layers.MaxPooling2D((2, 2)))\n",
        "model_conv.add(layers.Conv2D(64, (3, 3), activation='relu'))\n",
        "model_conv.add(layers.Flatten())\n",
        "model_conv.add(layers.Dense(64, activation='relu'))\n",
        "model_conv.add(layers.Dense(10, activation='softmax'))"
      ],
      "execution_count": 7,
      "outputs": []
    },
    {
      "cell_type": "code",
      "metadata": {
        "id": "hApGnxNFDrP3"
      },
      "source": [
        "# normalazing, flattening and reshaping images\n",
        "train_mnist_fash_img_conv = train_mnist_fash_img.reshape((60000, 28, 28, 1))\n",
        "train_mnist_fash_img_conv = train_mnist_fash_img_conv.astype('float32') / 255\n",
        "test_mnist_fash_img_conv = test_mnist_fash_img.reshape((10000, 28, 28, 1))\n",
        "test_mnist_fash_img_conv = test_mnist_fash_img_conv.astype('float32') / 255"
      ],
      "execution_count": 8,
      "outputs": []
    },
    {
      "cell_type": "code",
      "metadata": {
        "id": "My0CUpktFUOZ"
      },
      "source": [
        "# compiling model\n",
        "model_conv.compile(optimizer='rmsprop', loss='categorical_crossentropy', metrics=['accuracy'])"
      ],
      "execution_count": 9,
      "outputs": []
    },
    {
      "cell_type": "code",
      "metadata": {
        "colab": {
          "base_uri": "https://localhost:8080/"
        },
        "id": "ffqXCSbGFRkm",
        "outputId": "4559fbc7-9374-4d73-bb3c-cd2089e0bb06"
      },
      "source": [
        "#training model\n",
        "model_conv.fit(train_mnist_fash_img_conv, train_mnist_fash_label, epochs=10, batch_size=64)"
      ],
      "execution_count": 10,
      "outputs": [
        {
          "output_type": "stream",
          "text": [
            "Epoch 1/10\n",
            "938/938 [==============================] - 6s 4ms/step - loss: 0.7751 - accuracy: 0.7131\n",
            "Epoch 2/10\n",
            "938/938 [==============================] - 4s 4ms/step - loss: 0.3409 - accuracy: 0.8767\n",
            "Epoch 3/10\n",
            "938/938 [==============================] - 4s 4ms/step - loss: 0.2827 - accuracy: 0.8962\n",
            "Epoch 4/10\n",
            "938/938 [==============================] - 4s 4ms/step - loss: 0.2536 - accuracy: 0.9070\n",
            "Epoch 5/10\n",
            "938/938 [==============================] - 4s 4ms/step - loss: 0.2212 - accuracy: 0.9184\n",
            "Epoch 6/10\n",
            "938/938 [==============================] - 4s 4ms/step - loss: 0.2070 - accuracy: 0.9224\n",
            "Epoch 7/10\n",
            "938/938 [==============================] - 4s 4ms/step - loss: 0.1866 - accuracy: 0.9309\n",
            "Epoch 8/10\n",
            "938/938 [==============================] - 4s 4ms/step - loss: 0.1718 - accuracy: 0.9374\n",
            "Epoch 9/10\n",
            "938/938 [==============================] - 4s 4ms/step - loss: 0.1621 - accuracy: 0.9409\n",
            "Epoch 10/10\n",
            "938/938 [==============================] - 4s 4ms/step - loss: 0.1447 - accuracy: 0.9463\n"
          ],
          "name": "stdout"
        },
        {
          "output_type": "execute_result",
          "data": {
            "text/plain": [
              "<tensorflow.python.keras.callbacks.History at 0x7fc23e5a8c90>"
            ]
          },
          "metadata": {
            "tags": []
          },
          "execution_count": 10
        }
      ]
    },
    {
      "cell_type": "code",
      "metadata": {
        "colab": {
          "base_uri": "https://localhost:8080/"
        },
        "id": "AZbONp0nFNFL",
        "outputId": "cc13dff4-db42-4eab-a848-c8e4a0cba243"
      },
      "source": [
        "train_model_conv_loss, train_model_conv_acc = model_conv.evaluate(train_mnist_fash_img_conv, train_mnist_fash_label)\n",
        "test_model_conv_loss, test_model_conv_acc = model_conv.evaluate(test_mnist_fash_img_conv, test_mnist_fash_label)\n",
        "\n",
        "print(f'Train model conv accuracy: {round(train_model_conv_acc, 3)}')\n",
        "print(f'Test model conv accuracy: {round(test_model_conv_acc, 3)}')\n",
        "print(f'Train model accuracy: {round(train_model_acc, 3)}')\n",
        "print(f'Test model accuracy: {round(test_model_acc, 3)}')"
      ],
      "execution_count": 11,
      "outputs": [
        {
          "output_type": "stream",
          "text": [
            "1875/1875 [==============================] - 4s 2ms/step - loss: 0.1321 - accuracy: 0.9517\n",
            "313/313 [==============================] - 1s 3ms/step - loss: 0.2932 - accuracy: 0.9105\n",
            "Train model conv accuracy: 0.952\n",
            "Test model conv accuracy: 0.91\n",
            "Train model accuracy: 0.881\n",
            "Test model accuracy: 0.853\n"
          ],
          "name": "stdout"
        }
      ]
    },
    {
      "cell_type": "markdown",
      "metadata": {
        "id": "boBEx0wnOdOb"
      },
      "source": [
        "# 2. Improve the architecture. Experiment with different numbers of layers, size of layers, number of filters, size of filters. You are required to make those adjustment to get the highest accuracy. Watch out for overfitting -- we want the highest testing accuracy! Please provide a PDF file of the result, the best test accuracy and the architecture (different numbers of layers, size of layers, number of filters, size of filters)"
      ]
    },
    {
      "cell_type": "code",
      "metadata": {
        "colab": {
          "base_uri": "https://localhost:8080/",
          "height": 1000
        },
        "id": "bzYbUBpO21pX",
        "outputId": "3e0364e7-b843-4ff4-b983-0584538bcd19"
      },
      "source": [
        "from tensorflow.keras.callbacks import EarlyStopping\n",
        "model_stop = models.Sequential()\n",
        "model_stop.add(layers.Conv2D(32, (3, 3), activation='relu', input_shape=(28, 28, 1)))\n",
        "model_stop.add(layers.MaxPooling2D((2, 2)))\n",
        "model_stop.add(layers.Conv2D(64, (3, 3), activation='relu'))\n",
        "model_stop.add(layers.Flatten())\n",
        "model_stop.add(layers.Dense(64, activation='relu'))\n",
        "model_stop.add(layers.Dense(10, activation='softmax'))\n",
        "\n",
        "model_stop.summary(line_length=None, positions=None, print_fn=None)\n",
        "\n",
        "\n",
        "model_stop.compile(loss='categorical_crossentropy', optimizer='adam', metrics=['accuracy'])\n",
        "\n",
        "\n",
        "epochs = 30\n",
        "batch_size = 128\n",
        "trained_model_stop = model_stop.fit(train_mnist_fash_img_conv, train_mnist_fash_label, \n",
        "                                    epochs=epochs, batch_size=batch_size, \n",
        "validation_data=(test_mnist_fash_img_conv, test_mnist_fash_label), \n",
        "callbacks = [EarlyStopping(monitor='val_accuracy', patience=2)])\n",
        "\n",
        "model_history = trained_model_stop\n",
        "# Model acc plot\n",
        "plt.plot(model_history.history['accuracy'])\n",
        "plt.plot(model_history.history['val_accuracy'])\n",
        "plt.title('Model acc')\n",
        "plt.ylabel('Acc')\n",
        "plt.xlabel('epochs')\n",
        "plt.legend(['train', 'test'], loc='upper left')\n",
        "plt.show()\n",
        "\n",
        "# Loss function plot\n",
        "plt.plot(model_history.history['loss'])\n",
        "plt.plot(model_history.history['val_loss'])\n",
        "plt.title('Model loss func')\n",
        "plt.ylabel('Loss func')\n",
        "plt.xlabel('epochs')\n",
        "plt.legend(['train', 'test'], loc='upper left')\n",
        "plt.show()"
      ],
      "execution_count": 12,
      "outputs": [
        {
          "output_type": "stream",
          "text": [
            "Model: \"sequential_2\"\n",
            "_________________________________________________________________\n",
            "Layer (type)                 Output Shape              Param #   \n",
            "=================================================================\n",
            "conv2d_3 (Conv2D)            (None, 26, 26, 32)        320       \n",
            "_________________________________________________________________\n",
            "max_pooling2d_2 (MaxPooling2 (None, 13, 13, 32)        0         \n",
            "_________________________________________________________________\n",
            "conv2d_4 (Conv2D)            (None, 11, 11, 64)        18496     \n",
            "_________________________________________________________________\n",
            "flatten_1 (Flatten)          (None, 7744)              0         \n",
            "_________________________________________________________________\n",
            "dense_4 (Dense)              (None, 64)                495680    \n",
            "_________________________________________________________________\n",
            "dense_5 (Dense)              (None, 10)                650       \n",
            "=================================================================\n",
            "Total params: 515,146\n",
            "Trainable params: 515,146\n",
            "Non-trainable params: 0\n",
            "_________________________________________________________________\n",
            "Epoch 1/30\n",
            "469/469 [==============================] - 3s 6ms/step - loss: 0.6688 - accuracy: 0.7669 - val_loss: 0.3591 - val_accuracy: 0.8759\n",
            "Epoch 2/30\n",
            "469/469 [==============================] - 2s 5ms/step - loss: 0.3176 - accuracy: 0.8869 - val_loss: 0.3025 - val_accuracy: 0.8912\n",
            "Epoch 3/30\n",
            "469/469 [==============================] - 2s 5ms/step - loss: 0.2594 - accuracy: 0.9070 - val_loss: 0.2683 - val_accuracy: 0.9025\n",
            "Epoch 4/30\n",
            "469/469 [==============================] - 2s 5ms/step - loss: 0.2305 - accuracy: 0.9157 - val_loss: 0.2506 - val_accuracy: 0.9114\n",
            "Epoch 5/30\n",
            "469/469 [==============================] - 2s 5ms/step - loss: 0.2035 - accuracy: 0.9254 - val_loss: 0.2374 - val_accuracy: 0.9161\n",
            "Epoch 6/30\n",
            "469/469 [==============================] - 2s 5ms/step - loss: 0.1760 - accuracy: 0.9359 - val_loss: 0.2354 - val_accuracy: 0.9148\n",
            "Epoch 7/30\n",
            "469/469 [==============================] - 2s 5ms/step - loss: 0.1631 - accuracy: 0.9393 - val_loss: 0.2268 - val_accuracy: 0.9185\n",
            "Epoch 8/30\n",
            "469/469 [==============================] - 2s 5ms/step - loss: 0.1433 - accuracy: 0.9484 - val_loss: 0.2371 - val_accuracy: 0.9173\n",
            "Epoch 9/30\n",
            "469/469 [==============================] - 2s 5ms/step - loss: 0.1259 - accuracy: 0.9548 - val_loss: 0.2324 - val_accuracy: 0.9160\n"
          ],
          "name": "stdout"
        },
        {
          "output_type": "display_data",
          "data": {
            "image/png": "[encoded data removed]",
            "text/plain": [
              "<Figure size 432x288 with 1 Axes>"
            ]
          },
          "metadata": {
            "tags": [],
            "needs_background": "light"
          }
        },
        {
          "output_type": "display_data",
          "data": {
            "image/png": "[encoded data removed]",
            "text/plain": [
              "<Figure size 432x288 with 1 Axes>"
            ]
          },
          "metadata": {
            "tags": [],
            "needs_background": "light"
          }
        }
      ]
    },
    {
      "cell_type": "code",
      "metadata": {
        "colab": {
          "base_uri": "https://localhost:8080/"
        },
        "id": "7oiMWIIh_ES0",
        "outputId": "8c9a8e63-0a91-475f-ca2e-154c1309661f"
      },
      "source": [
        "train_model_early_loss, train_model_early_acc = model_stop.evaluate(train_mnist_fash_img_conv, train_mnist_fash_label)\n",
        "test_model_early_loss, test_model_early_acc = model_stop.evaluate(test_mnist_fash_img_conv, test_mnist_fash_label)\n",
        "\n",
        "print(f'Train model accuracy: {round(train_model_acc, 3)}')\n",
        "print(f'Test model accuracy: {round(test_model_acc, 3)}')\n",
        "print(f'Train model conv accuracy: {round(train_model_conv_acc, 3)}')\n",
        "print(f'Test model conv accuracy: {round(test_model_conv_acc, 3)}')\n",
        "\n",
        "print(f'My new model train accuracy: {round(train_model_early_acc, 3)}')\n",
        "print(f'My new model test accuracy: {round(test_model_early_acc, 3)}')"
      ],
      "execution_count": 13,
      "outputs": [
        {
          "output_type": "stream",
          "text": [
            "1875/1875 [==============================] - 5s 2ms/step - loss: 0.1060 - accuracy: 0.9626\n",
            "313/313 [==============================] - 1s 2ms/step - loss: 0.2324 - accuracy: 0.9160\n",
            "Train model accuracy: 0.881\n",
            "Test model accuracy: 0.853\n",
            "Train model conv accuracy: 0.952\n",
            "Test model conv accuracy: 0.91\n",
            "My new model train accuracy: 0.963\n",
            "My new model test accuracy: 0.916\n"
          ],
          "name": "stdout"
        }
      ]
    },
    {
      "cell_type": "code",
      "metadata": {
        "colab": {
          "base_uri": "https://localhost:8080/"
        },
        "id": "aTglA0lIChp6",
        "outputId": "772432a5-e58f-4dfe-c877-abe15a50c0d1"
      },
      "source": [
        "print(f'My models is {round(test_model_early_acc-test_model_conv_acc, 4)} more/less accurate on test dataset')"
      ],
      "execution_count": 14,
      "outputs": [
        {
          "output_type": "stream",
          "text": [
            "My models is 0.0055 more accurate on test dataset\n"
          ],
          "name": "stdout"
        }
      ]
    },
    {
      "cell_type": "markdown",
      "metadata": {
        "id": "zdjO4ga_Faks"
      },
      "source": [
        "# By deleting 2 layers from the initial CNN and applying early stopping I was able to create a more accurate model that performs better on test dataset"
      ]
    },
    {
      "cell_type": "code",
      "metadata": {
        "id": "38jcOIgtFbC4"
      },
      "source": [
        ""
      ],
      "execution_count": 14,
      "outputs": []
    }
  ]
}
